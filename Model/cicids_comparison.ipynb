{
 "cells": [
  {
   "cell_type": "code",
   "execution_count": 6,
   "metadata": {},
   "outputs": [],
   "source": [
    "import pandas as pd\n",
    "import numpy as np\n",
    "from sklearn.model_selection import train_test_split\n",
    "X = pd.read_csv('/home/wendyunji/MLAC/data/cicids2017-data/new/cicids_xdata.csv')\n",
    "y = pd.read_csv('/home/wendyunji/MLAC/data/cicids2017-data/new/cicids_ydata.csv')\n",
    "\n",
    "X_train, X_test, y_train, y_test = train_test_split(X, y, test_size=0.3, random_state=42)"
   ]
  },
  {
   "cell_type": "code",
   "execution_count": 7,
   "metadata": {},
   "outputs": [
    {
     "name": "stdout",
     "output_type": "stream",
     "text": [
      "1697976\n",
      "727704\n"
     ]
    }
   ],
   "source": [
    "print(len(X_train))\n",
    "print(len(X_test))"
   ]
  },
  {
   "cell_type": "code",
   "execution_count": 8,
   "metadata": {},
   "outputs": [],
   "source": [
    "import time\n",
    "import warnings\n",
    "warnings.filterwarnings(\"ignore\")\n",
    "\n",
    "from sklearn import model_selection\n",
    "from sklearn.model_selection import cross_val_score\n",
    "from sklearn.neighbors import KNeighborsClassifier\n",
    "from sklearn.svm import SVC\n",
    "from sklearn.tree import DecisionTreeClassifier\n",
    "from sklearn.ensemble import RandomForestClassifier\n",
    "from sklearn.ensemble import AdaBoostClassifier\n",
    "from sklearn.linear_model import LogisticRegression\n",
    "from sklearn.naive_bayes import GaussianNB\n",
    "from sklearn.discriminant_analysis import LinearDiscriminantAnalysis\n",
    "from sklearn.discriminant_analysis import QuadraticDiscriminantAnalysis\n",
    "from sklearn.neural_network import MLPClassifier\n",
    "from sklearn.metrics import precision_score, recall_score, confusion_matrix, classification_report, accuracy_score, f1_score"
   ]
  },
  {
   "cell_type": "code",
   "execution_count": 9,
   "metadata": {},
   "outputs": [],
   "source": [
    "models = []\n",
    "#models.append(('SVM', SVC(gamma='auto')))\n",
    "models.append(('KNN', KNeighborsClassifier()))\n",
    "models.append(('CART', DecisionTreeClassifier(max_depth=5)))\n",
    "models.append(('RF', RandomForestClassifier(max_depth=5, n_estimators=5, max_features=3)))    \n",
    "models.append(('ABoost', AdaBoostClassifier()))\n",
    "models.append(('LR', LogisticRegression(solver='lbfgs', max_iter=200)))\n",
    "models.append(('NB', GaussianNB()))\n",
    "models.append(('LDA', LinearDiscriminantAnalysis()))\n",
    "models.append(('QDA', QuadraticDiscriminantAnalysis()))\n",
    "models.append(('MLP', MLPClassifier()))"
   ]
  },
  {
   "cell_type": "code",
   "execution_count": 10,
   "metadata": {},
   "outputs": [
    {
     "name": "stdout",
     "output_type": "stream",
     "text": [
      "Model\tAcc\tF1_mi\tRecall_mi\tPrecision_mi\tF1_ma\tRecall_ma\tPrecision_ma\tF1_we\tRecall_we\tPrecision_we\tExecution\n",
      "KNN\t0.999\t0.999\t0.999\t0.999\t0.972\t0.972\t0.972\t0.999\t0.999\t0.999\t485.89 secs\n",
      "CART\t0.983\t0.983\t0.983\t0.983\t0.639\t0.621\t0.621\t0.980\t0.983\t0.983\t42.76 secs\n",
      "RF\t0.968\t0.968\t0.968\t0.968\t0.420\t0.380\t0.380\t0.961\t0.968\t0.968\t13.63 secs\n",
      "ABoost\t0.902\t0.902\t0.902\t0.902\t0.155\t0.173\t0.173\t0.862\t0.902\t0.902\t538.70 secs\n",
      "LR\t0.996\t0.996\t0.996\t0.996\t0.834\t0.818\t0.818\t0.995\t0.996\t0.996\t177.20 secs\n",
      "NB\t0.771\t0.771\t0.771\t0.771\t0.539\t0.867\t0.867\t0.847\t0.771\t0.771\t4.60 secs\n",
      "LDA\t0.957\t0.957\t0.957\t0.957\t0.617\t0.809\t0.809\t0.964\t0.957\t0.957\t15.59 secs\n",
      "QDA\t0.964\t0.964\t0.964\t0.964\t0.834\t0.987\t0.987\t0.978\t0.964\t0.964\t13.15 secs\n",
      "MLP\t0.998\t0.998\t0.998\t0.998\t0.941\t0.932\t0.932\t0.998\t0.998\t0.998\t617.08 secs\n"
     ]
    }
   ],
   "source": [
    "print('Model\\tAcc\\tF1_mi\\tRecall_mi\\tPrecision_mi\\tF1_ma\\tRecall_ma\\tPrecision_ma\\tF1_we\\tRecall_we\\tPrecision_we\\tExecution')\n",
    "\n",
    "for name, model in models:\n",
    "    start_time = time.time()\n",
    "\n",
    "    model.fit(X_train, y_train)\n",
    "    prediction = model.predict(X_test)\n",
    "\n",
    "    delta = time.time() - start_time\n",
    "    acc = accuracy_score(y_test, prediction)\n",
    "    f1_mi = f1_score(y_test, prediction,average='micro')\n",
    "    f1_ma = f1_score(y_test, prediction,average='macro')\n",
    "    f1_we = f1_score(y_test, prediction,average='weighted')\n",
    "    recall_mi = recall_score(y_test, prediction, average='micro')\n",
    "    recall_ma = recall_score(y_test, prediction, average='macro')\n",
    "    recall_we = recall_score(y_test, prediction, average='weighted')\n",
    "    precision_mi = recall_score(y_test, prediction, average='micro')\n",
    "    precision_ma = recall_score(y_test, prediction, average='macro')\n",
    "    precision_we = recall_score(y_test, prediction, average='weighted')\n",
    "    #precision = precision_score(y_test, prediction, average='micro')\n",
    "    print('{}\\t{:.3f}\\t{:.3f}\\t{:.3f}\\t{:.3f}\\t{:.3f}\\t{:.3f}\\t{:.3f}\\t{:.3f}\\t{:.3f}\\t{:.3f}\\t{:.2f} secs'.format(name, acc, f1_mi, recall_mi, precision_mi, f1_ma, recall_ma, precision_ma, f1_we, recall_we, precision_we, delta))"
   ]
  }
 ],
 "metadata": {
  "kernelspec": {
   "display_name": "Python 3.8.13 ('MLAC')",
   "language": "python",
   "name": "python3"
  },
  "language_info": {
   "codemirror_mode": {
    "name": "ipython",
    "version": 3
   },
   "file_extension": ".py",
   "mimetype": "text/x-python",
   "name": "python",
   "nbconvert_exporter": "python",
   "pygments_lexer": "ipython3",
   "version": "3.8.13"
  },
  "orig_nbformat": 4,
  "vscode": {
   "interpreter": {
    "hash": "655fe69128f33ec7b9cdb5607c5affb61ecf7a01288ac599a7040d39bc4c0ccc"
   }
  }
 },
 "nbformat": 4,
 "nbformat_minor": 2
}
