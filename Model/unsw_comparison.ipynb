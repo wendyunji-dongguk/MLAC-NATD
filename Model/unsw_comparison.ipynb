{
 "cells": [
  {
   "cell_type": "code",
   "execution_count": 8,
   "metadata": {},
   "outputs": [],
   "source": [
    "import pandas as pd\n",
    "import numpy as np\n",
    "from sklearn.model_selection import train_test_split\n",
    "X = pd.read_csv('/home/wendyunji/MLAC/data/unsw-data/new/unsw_xdata.csv')\n",
    "y = pd.read_csv('/home/wendyunji/MLAC/data/unsw-data/new/unsw_ydata.csv')\n",
    "\n",
    "X_train, X_test, y_train, y_test = train_test_split(X, y, test_size=0.3, random_state=42)"
   ]
  },
  {
   "cell_type": "code",
   "execution_count": 9,
   "metadata": {},
   "outputs": [
    {
     "name": "stdout",
     "output_type": "stream",
     "text": [
      "180371\n",
      "77302\n"
     ]
    }
   ],
   "source": [
    "print(len(X_train))\n",
    "print(len(X_test))"
   ]
  },
  {
   "cell_type": "code",
   "execution_count": 12,
   "metadata": {},
   "outputs": [],
   "source": [
    "import time\n",
    "import warnings\n",
    "warnings.filterwarnings(\"ignore\")\n",
    "\n",
    "from sklearn import model_selection\n",
    "from sklearn.model_selection import cross_val_score\n",
    "from sklearn.neighbors import KNeighborsClassifier\n",
    "from sklearn.svm import SVC\n",
    "from sklearn.tree import DecisionTreeClassifier\n",
    "from sklearn.ensemble import RandomForestClassifier\n",
    "from sklearn.ensemble import AdaBoostClassifier\n",
    "from sklearn.linear_model import LogisticRegression\n",
    "from sklearn.naive_bayes import GaussianNB\n",
    "from sklearn.discriminant_analysis import LinearDiscriminantAnalysis\n",
    "from sklearn.discriminant_analysis import QuadraticDiscriminantAnalysis\n",
    "from sklearn.neural_network import MLPClassifier\n",
    "from sklearn.metrics import precision_score, recall_score, confusion_matrix, classification_report, accuracy_score, f1_score"
   ]
  },
  {
   "cell_type": "code",
   "execution_count": 13,
   "metadata": {},
   "outputs": [],
   "source": [
    "models = []\n",
    "#models.append(('SVM', SVC(gamma='auto')))\n",
    "models.append(('KNN', KNeighborsClassifier()))\n",
    "models.append(('CART', DecisionTreeClassifier(max_depth=5)))\n",
    "models.append(('RF', RandomForestClassifier(max_depth=5, n_estimators=5)))    \n",
    "models.append(('ABoost', AdaBoostClassifier()))\n",
    "models.append(('LR', LogisticRegression(solver='lbfgs', max_iter=200)))\n",
    "models.append(('NB', GaussianNB()))\n",
    "models.append(('LDA', LinearDiscriminantAnalysis()))\n",
    "models.append(('QDA', QuadraticDiscriminantAnalysis()))\n",
    "models.append(('MLP', MLPClassifier()))"
   ]
  },
  {
   "cell_type": "code",
   "execution_count": 24,
   "metadata": {},
   "outputs": [
    {
     "name": "stdout",
     "output_type": "stream",
     "text": [
      "Model\tAcc\tF1_mi\tRecall_mi\tPrecision_mi\tF1_ma\tRecall_ma\tPrecision_ma\tF1_we\tRecall_we\tPrecision_we\tExecution\n",
      "CART\t0.748\t0.748\t0.748\t0.748\t0.339\t0.347\t0.347\t0.697\t0.748\t0.748\t2.52 secs\n",
      "RF\t0.662\t0.662\t0.662\t0.662\t0.222\t0.256\t0.256\t0.574\t0.662\t0.662\t0.65 secs\n",
      "ABoost\t0.579\t0.579\t0.579\t0.579\t0.325\t0.360\t0.360\t0.600\t0.579\t0.579\t43.70 secs\n",
      "LR\t0.793\t0.793\t0.793\t0.793\t0.389\t0.400\t0.400\t0.764\t0.793\t0.793\t30.78 secs\n",
      "NB\t0.124\t0.124\t0.124\t0.124\t0.059\t0.253\t0.253\t0.120\t0.124\t0.124\t1.86 secs\n",
      "LDA\t0.716\t0.716\t0.716\t0.716\t0.448\t0.555\t0.555\t0.742\t0.716\t0.716\t6.70 secs\n",
      "QDA\t0.353\t0.353\t0.353\t0.353\t0.111\t0.265\t0.265\t0.240\t0.353\t0.353\t4.63 secs\n",
      "MLP\t0.847\t0.847\t0.847\t0.847\t0.555\t0.526\t0.526\t0.829\t0.847\t0.847\t808.77 secs\n"
     ]
    }
   ],
   "source": [
    "print('Model\\tAcc\\tF1_mi\\tRecall_mi\\tPrecision_mi\\tF1_ma\\tRecall_ma\\tPrecision_ma\\tF1_we\\tRecall_we\\tPrecision_we\\tExecution')\n",
    "\n",
    "for name, model in models:\n",
    "    start_time = time.time()\n",
    "\n",
    "    model.fit(X_train, y_train)\n",
    "    prediction = model.predict(X_test)\n",
    "\n",
    "    delta = time.time() - start_time\n",
    "    acc = accuracy_score(y_test, prediction)\n",
    "    f1_mi = f1_score(y_test, prediction,average='micro')\n",
    "    f1_ma = f1_score(y_test, prediction,average='macro')\n",
    "    f1_we = f1_score(y_test, prediction,average='weighted')\n",
    "    recall_mi = recall_score(y_test, prediction, average='micro')\n",
    "    recall_ma = recall_score(y_test, prediction, average='macro')\n",
    "    recall_we = recall_score(y_test, prediction, average='weighted')\n",
    "    precision_mi = recall_score(y_test, prediction, average='micro')\n",
    "    precision_ma = recall_score(y_test, prediction, average='macro')\n",
    "    precision_we = recall_score(y_test, prediction, average='weighted')\n",
    "    #precision = precision_score(y_test, prediction, average='micro')\n",
    "    print('{}\\t{:.3f}\\t{:.3f}\\t{:.3f}\\t{:.3f}\\t{:.3f}\\t{:.3f}\\t{:.3f}\\t{:.3f}\\t{:.3f}\\t{:.3f}\\t{:.2f} secs'.format(name, acc, f1_mi, recall_mi, precision_mi, f1_ma, recall_ma, precision_ma, f1_we, recall_we, precision_we, delta))"
   ]
  },
  {
   "cell_type": "code",
   "execution_count": 25,
   "metadata": {},
   "outputs": [
    {
     "name": "stdout",
     "output_type": "stream",
     "text": [
      "MLP\t0.809\t0.809\t0.809\t0.809\t0.499\t0.479\t0.479\t0.807\t0.809\t0.809\t9.86 secs\n"
     ]
    }
   ],
   "source": [
    "start_time = time.time()\n",
    "\n",
    "model = KNeighborsClassifier()\n",
    "\n",
    "model.fit(X_train, y_train)\n",
    "prediction = model.predict(X_test)\n",
    "\n",
    "delta = time.time() - start_time\n",
    "acc = accuracy_score(y_test, prediction)\n",
    "f1_mi = f1_score(y_test, prediction,average='micro')\n",
    "f1_ma = f1_score(y_test, prediction,average='macro')\n",
    "f1_we = f1_score(y_test, prediction,average='weighted')\n",
    "recall_mi = recall_score(y_test, prediction, average='micro')\n",
    "recall_ma = recall_score(y_test, prediction, average='macro')\n",
    "recall_we = recall_score(y_test, prediction, average='weighted')\n",
    "precision_mi = recall_score(y_test, prediction, average='micro')\n",
    "precision_ma = recall_score(y_test, prediction, average='macro')\n",
    "precision_we = recall_score(y_test, prediction, average='weighted')\n",
    "#precision = precision_score(y_test, prediction, average='micro')\n",
    "print('{}\\t{:.3f}\\t{:.3f}\\t{:.3f}\\t{:.3f}\\t{:.3f}\\t{:.3f}\\t{:.3f}\\t{:.3f}\\t{:.3f}\\t{:.3f}\\t{:.2f} secs'.format(name, acc, f1_mi, recall_mi, precision_mi, f1_ma, recall_ma, precision_ma, f1_we, recall_we, precision_we, delta))"
   ]
  }
 ],
 "metadata": {
  "kernelspec": {
   "display_name": "Python 3.8.13 ('MLAC')",
   "language": "python",
   "name": "python3"
  },
  "language_info": {
   "codemirror_mode": {
    "name": "ipython",
    "version": 3
   },
   "file_extension": ".py",
   "mimetype": "text/x-python",
   "name": "python",
   "nbconvert_exporter": "python",
   "pygments_lexer": "ipython3",
   "version": "3.8.13"
  },
  "orig_nbformat": 4,
  "vscode": {
   "interpreter": {
    "hash": "655fe69128f33ec7b9cdb5607c5affb61ecf7a01288ac599a7040d39bc4c0ccc"
   }
  }
 },
 "nbformat": 4,
 "nbformat_minor": 2
}
