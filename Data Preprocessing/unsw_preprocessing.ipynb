{
 "cells": [
  {
   "cell_type": "code",
   "execution_count": 139,
   "metadata": {},
   "outputs": [],
   "source": [
    "import pandas as pd\n",
    "import numpy as np\n",
    "import glob\n",
    "import os\n",
    "\n",
    "from sklearn.preprocessing import OneHotEncoder, LabelEncoder, QuantileTransformer\n",
    "from sklearn.model_selection import train_test_split\n",
    "from sklearn.compose import ColumnTransformer\n",
    "from fast_ml.model_development import train_valid_test_split\n",
    "from skimpy import clean_columns\n",
    "\n",
    "DATA_DIR  = os.path.join(os.path.abspath(\".\"), \"data\")"
   ]
  },
  {
   "cell_type": "code",
   "execution_count": 140,
   "metadata": {},
   "outputs": [
    {
     "data": {
      "text/html": [
       "<pre style=\"white-space:pre;overflow-x:auto;line-height:normal;font-family:Menlo,'DejaVu Sans Mono',consolas,'Courier New',monospace\"><span style=\"color: #008080; text-decoration-color: #008080; font-weight: bold\">0</span> column names have been cleaned\n",
       "</pre>\n"
      ],
      "text/plain": [
       "\u001b[1;36m0\u001b[0m column names have been cleaned\n"
      ]
     },
     "metadata": {},
     "output_type": "display_data"
    }
   ],
   "source": [
    "data_path='/home/wendyunji/MLAC/data/unsw-data/raw'\n",
    "\n",
    "filenames = glob.glob(os.path.join(data_path, 'set', '*.csv'))\n",
    "datasets = [pd.read_csv(filename) for filename in filenames]\n",
    "\n",
    "# Concatenate the datasets\n",
    "data = pd.concat(datasets, axis=0, ignore_index=True)\n",
    "data = clean_columns(data)"
   ]
  },
  {
   "cell_type": "code",
   "execution_count": 141,
   "metadata": {},
   "outputs": [
    {
     "name": "stdout",
     "output_type": "stream",
     "text": [
      "45\n",
      "['id', 'dur', 'proto', 'service', 'state', 'spkts', 'dpkts', 'sbytes', 'dbytes', 'rate', 'sttl', 'dttl', 'sload', 'dload', 'sloss', 'dloss', 'sinpkt', 'dinpkt', 'sjit', 'djit', 'swin', 'stcpb', 'dtcpb', 'dwin', 'tcprtt', 'synack', 'ackdat', 'smean', 'dmean', 'trans_depth', 'response_body_len', 'ct_srv_src', 'ct_state_ttl', 'ct_dst_ltm', 'ct_src_dport_ltm', 'ct_dst_sport_ltm', 'ct_dst_src_ltm', 'is_ftp_login', 'ct_ftp_cmd', 'ct_flw_http_mthd', 'ct_src_ltm', 'ct_srv_dst', 'is_sm_ips_ports', 'attack_cat', 'label']\n"
     ]
    },
    {
     "data": {
      "text/plain": [
       "Normal            93000\n",
       "Generic           58871\n",
       "Exploits          44525\n",
       "Fuzzers           24246\n",
       "DoS               16353\n",
       "Reconnaissance    13987\n",
       "Analysis           2677\n",
       "Backdoor           2329\n",
       "Shellcode          1511\n",
       "Worms               174\n",
       "Name: attack_cat, dtype: int64"
      ]
     },
     "execution_count": 141,
     "metadata": {},
     "output_type": "execute_result"
    }
   ],
   "source": [
    "len(data)\n",
    "\n",
    "print(len(data.columns))\n",
    "raw_col = data.columns.to_list()\n",
    "print(raw_col)\n",
    "\n",
    "data['attack_cat'].value_counts()"
   ]
  },
  {
   "cell_type": "code",
   "execution_count": 142,
   "metadata": {},
   "outputs": [
    {
     "data": {
      "text/html": [
       "<div>\n",
       "<style scoped>\n",
       "    .dataframe tbody tr th:only-of-type {\n",
       "        vertical-align: middle;\n",
       "    }\n",
       "\n",
       "    .dataframe tbody tr th {\n",
       "        vertical-align: top;\n",
       "    }\n",
       "\n",
       "    .dataframe thead th {\n",
       "        text-align: right;\n",
       "    }\n",
       "</style>\n",
       "<table border=\"1\" class=\"dataframe\">\n",
       "  <thead>\n",
       "    <tr style=\"text-align: right;\">\n",
       "      <th></th>\n",
       "      <th>id</th>\n",
       "      <th>dur</th>\n",
       "      <th>proto</th>\n",
       "      <th>service</th>\n",
       "      <th>state</th>\n",
       "      <th>spkts</th>\n",
       "      <th>dpkts</th>\n",
       "      <th>rate</th>\n",
       "      <th>sttl</th>\n",
       "      <th>dttl</th>\n",
       "      <th>...</th>\n",
       "      <th>ct_src_dport_ltm</th>\n",
       "      <th>ct_dst_sport_ltm</th>\n",
       "      <th>ct_dst_src_ltm</th>\n",
       "      <th>ct_ftp_cmd</th>\n",
       "      <th>ct_flw_http_mthd</th>\n",
       "      <th>ct_src_ltm</th>\n",
       "      <th>ct_srv_dst</th>\n",
       "      <th>is_sm_ips_ports</th>\n",
       "      <th>attack_cat</th>\n",
       "      <th>label</th>\n",
       "    </tr>\n",
       "  </thead>\n",
       "  <tbody>\n",
       "    <tr>\n",
       "      <th>0</th>\n",
       "      <td>1</td>\n",
       "      <td>0.121478</td>\n",
       "      <td>tcp</td>\n",
       "      <td>-</td>\n",
       "      <td>FIN</td>\n",
       "      <td>6</td>\n",
       "      <td>4</td>\n",
       "      <td>74.087490</td>\n",
       "      <td>252</td>\n",
       "      <td>254</td>\n",
       "      <td>...</td>\n",
       "      <td>1</td>\n",
       "      <td>1</td>\n",
       "      <td>1</td>\n",
       "      <td>0</td>\n",
       "      <td>0</td>\n",
       "      <td>1</td>\n",
       "      <td>1</td>\n",
       "      <td>0</td>\n",
       "      <td>Normal</td>\n",
       "      <td>0</td>\n",
       "    </tr>\n",
       "    <tr>\n",
       "      <th>1</th>\n",
       "      <td>2</td>\n",
       "      <td>0.649902</td>\n",
       "      <td>tcp</td>\n",
       "      <td>-</td>\n",
       "      <td>FIN</td>\n",
       "      <td>14</td>\n",
       "      <td>38</td>\n",
       "      <td>78.473372</td>\n",
       "      <td>62</td>\n",
       "      <td>252</td>\n",
       "      <td>...</td>\n",
       "      <td>1</td>\n",
       "      <td>1</td>\n",
       "      <td>2</td>\n",
       "      <td>0</td>\n",
       "      <td>0</td>\n",
       "      <td>1</td>\n",
       "      <td>6</td>\n",
       "      <td>0</td>\n",
       "      <td>Normal</td>\n",
       "      <td>0</td>\n",
       "    </tr>\n",
       "    <tr>\n",
       "      <th>2</th>\n",
       "      <td>3</td>\n",
       "      <td>1.623129</td>\n",
       "      <td>tcp</td>\n",
       "      <td>-</td>\n",
       "      <td>FIN</td>\n",
       "      <td>8</td>\n",
       "      <td>16</td>\n",
       "      <td>14.170161</td>\n",
       "      <td>62</td>\n",
       "      <td>252</td>\n",
       "      <td>...</td>\n",
       "      <td>1</td>\n",
       "      <td>1</td>\n",
       "      <td>3</td>\n",
       "      <td>0</td>\n",
       "      <td>0</td>\n",
       "      <td>2</td>\n",
       "      <td>6</td>\n",
       "      <td>0</td>\n",
       "      <td>Normal</td>\n",
       "      <td>0</td>\n",
       "    </tr>\n",
       "    <tr>\n",
       "      <th>3</th>\n",
       "      <td>4</td>\n",
       "      <td>1.681642</td>\n",
       "      <td>tcp</td>\n",
       "      <td>ftp</td>\n",
       "      <td>FIN</td>\n",
       "      <td>12</td>\n",
       "      <td>12</td>\n",
       "      <td>13.677108</td>\n",
       "      <td>62</td>\n",
       "      <td>252</td>\n",
       "      <td>...</td>\n",
       "      <td>1</td>\n",
       "      <td>1</td>\n",
       "      <td>3</td>\n",
       "      <td>1</td>\n",
       "      <td>0</td>\n",
       "      <td>2</td>\n",
       "      <td>1</td>\n",
       "      <td>0</td>\n",
       "      <td>Normal</td>\n",
       "      <td>0</td>\n",
       "    </tr>\n",
       "    <tr>\n",
       "      <th>4</th>\n",
       "      <td>5</td>\n",
       "      <td>0.449454</td>\n",
       "      <td>tcp</td>\n",
       "      <td>-</td>\n",
       "      <td>FIN</td>\n",
       "      <td>10</td>\n",
       "      <td>6</td>\n",
       "      <td>33.373826</td>\n",
       "      <td>254</td>\n",
       "      <td>252</td>\n",
       "      <td>...</td>\n",
       "      <td>2</td>\n",
       "      <td>1</td>\n",
       "      <td>40</td>\n",
       "      <td>0</td>\n",
       "      <td>0</td>\n",
       "      <td>2</td>\n",
       "      <td>39</td>\n",
       "      <td>0</td>\n",
       "      <td>Normal</td>\n",
       "      <td>0</td>\n",
       "    </tr>\n",
       "  </tbody>\n",
       "</table>\n",
       "<p>5 rows × 41 columns</p>\n",
       "</div>"
      ],
      "text/plain": [
       "   id       dur proto service state  spkts  dpkts       rate  sttl  dttl  ...  \\\n",
       "0   1  0.121478   tcp       -   FIN      6      4  74.087490   252   254  ...   \n",
       "1   2  0.649902   tcp       -   FIN     14     38  78.473372    62   252  ...   \n",
       "2   3  1.623129   tcp       -   FIN      8     16  14.170161    62   252  ...   \n",
       "3   4  1.681642   tcp     ftp   FIN     12     12  13.677108    62   252  ...   \n",
       "4   5  0.449454   tcp       -   FIN     10      6  33.373826   254   252  ...   \n",
       "\n",
       "   ct_src_dport_ltm  ct_dst_sport_ltm  ct_dst_src_ltm  ct_ftp_cmd  \\\n",
       "0                 1                 1               1           0   \n",
       "1                 1                 1               2           0   \n",
       "2                 1                 1               3           0   \n",
       "3                 1                 1               3           1   \n",
       "4                 2                 1              40           0   \n",
       "\n",
       "   ct_flw_http_mthd  ct_src_ltm  ct_srv_dst  is_sm_ips_ports  attack_cat  \\\n",
       "0                 0           1           1                0      Normal   \n",
       "1                 0           1           6                0      Normal   \n",
       "2                 0           2           6                0      Normal   \n",
       "3                 0           2           1                0      Normal   \n",
       "4                 0           2          39                0      Normal   \n",
       "\n",
       "   label  \n",
       "0      0  \n",
       "1      0  \n",
       "2      0  \n",
       "3      0  \n",
       "4      0  \n",
       "\n",
       "[5 rows x 41 columns]"
      ]
     },
     "execution_count": 142,
     "metadata": {},
     "output_type": "execute_result"
    }
   ],
   "source": [
    "#\n",
    "data.drop_duplicates(inplace=True, keep=False, ignore_index=True)\n",
    "#\n",
    "data.dropna(axis=0, inplace=True, how=\"any\")\n",
    "#\n",
    "data.replace([-np.inf, np.inf], np.nan, inplace=True)\n",
    "data.dropna(axis=0, how='any', inplace=True)\n",
    "#\n",
    "data_std =data.std(numeric_only=True)\n",
    "threshold=0.01\n",
    "constant_features = [column for column, std in data_std.iteritems() if std < threshold]\n",
    "data.drop(labels=constant_features, axis=1, inplace=True)\n",
    "#\n",
    "threshold=0.98\n",
    "data_corr = data.corr()\n",
    "mask = np.triu(np.ones_like(data_corr, dtype=bool))\n",
    "tri_df = data_corr.mask(mask)\n",
    "correlated_features = [c for c in tri_df.columns if any(tri_df[c] > threshold)]\n",
    "data.drop(labels=correlated_features, axis=1, inplace=True)\n",
    "\n",
    "data.head()"
   ]
  },
  {
   "cell_type": "code",
   "execution_count": 143,
   "metadata": {},
   "outputs": [
    {
     "name": "stdout",
     "output_type": "stream",
     "text": [
      "41\n",
      "['id', 'dur', 'proto', 'service', 'state', 'spkts', 'dpkts', 'rate', 'sttl', 'dttl', 'sload', 'dload', 'sloss', 'dloss', 'sinpkt', 'dinpkt', 'sjit', 'djit', 'stcpb', 'dtcpb', 'dwin', 'tcprtt', 'synack', 'ackdat', 'smean', 'dmean', 'trans_depth', 'response_body_len', 'ct_srv_src', 'ct_state_ttl', 'ct_dst_ltm', 'ct_src_dport_ltm', 'ct_dst_sport_ltm', 'ct_dst_src_ltm', 'ct_ftp_cmd', 'ct_flw_http_mthd', 'ct_src_ltm', 'ct_srv_dst', 'is_sm_ips_ports', 'attack_cat', 'label']\n",
      "['sbytes', 'swin', 'is_ftp_login', 'dbytes']\n"
     ]
    },
    {
     "data": {
      "text/plain": [
       "Normal            93000\n",
       "Generic           58871\n",
       "Exploits          44525\n",
       "Fuzzers           24246\n",
       "DoS               16353\n",
       "Reconnaissance    13987\n",
       "Analysis           2677\n",
       "Backdoor           2329\n",
       "Shellcode          1511\n",
       "Worms               174\n",
       "Name: attack_cat, dtype: int64"
      ]
     },
     "execution_count": 143,
     "metadata": {},
     "output_type": "execute_result"
    }
   ],
   "source": [
    "len(data)\n",
    "\n",
    "print(len(data.columns))\n",
    "pro_col = data.columns.to_list()\n",
    "print(pro_col)\n",
    "\n",
    "print(list(set(raw_col) -set(pro_col)))\n",
    "\n",
    "data['attack_cat'].value_counts()\n"
   ]
  },
  {
   "cell_type": "code",
   "execution_count": 144,
   "metadata": {},
   "outputs": [
    {
     "name": "stdout",
     "output_type": "stream",
     "text": [
      "           id       dur proto service state  spkts  dpkts           rate  \\\n",
      "0           1  0.121478   tcp       -   FIN      6      4      74.087490   \n",
      "1           2  0.649902   tcp       -   FIN     14     38      78.473372   \n",
      "2           3  1.623129   tcp       -   FIN      8     16      14.170161   \n",
      "3           4  1.681642   tcp     ftp   FIN     12     12      13.677108   \n",
      "4           5  0.449454   tcp       -   FIN     10      6      33.373826   \n",
      "...       ...       ...   ...     ...   ...    ...    ...            ...   \n",
      "257668  82328  0.000005   udp       -   INT      2      0  200000.005100   \n",
      "257669  82329  1.106101   tcp       -   FIN     20      8      24.410067   \n",
      "257670  82330  0.000000   arp       -   INT      1      0       0.000000   \n",
      "257671  82331  0.000000   arp       -   INT      1      0       0.000000   \n",
      "257672  82332  0.000009   udp       -   INT      2      0  111111.107200   \n",
      "\n",
      "        sttl  dttl  ...  ct_src_dport_ltm  ct_dst_sport_ltm  ct_dst_src_ltm  \\\n",
      "0        252   254  ...                 1                 1               1   \n",
      "1         62   252  ...                 1                 1               2   \n",
      "2         62   252  ...                 1                 1               3   \n",
      "3         62   252  ...                 1                 1               3   \n",
      "4        254   252  ...                 2                 1              40   \n",
      "...      ...   ...  ...               ...               ...             ...   \n",
      "257668   254     0  ...                 1                 1               2   \n",
      "257669   254   252  ...                 1                 1               1   \n",
      "257670     0     0  ...                 1                 1               1   \n",
      "257671     0     0  ...                 1                 1               1   \n",
      "257672   254     0  ...                 1                 1               1   \n",
      "\n",
      "        ct_ftp_cmd  ct_flw_http_mthd  ct_src_ltm  ct_srv_dst  is_sm_ips_ports  \\\n",
      "0                0                 0           1           1                0   \n",
      "1                0                 0           1           6                0   \n",
      "2                0                 0           2           6                0   \n",
      "3                1                 0           2           1                0   \n",
      "4                0                 0           2          39                0   \n",
      "...            ...               ...         ...         ...              ...   \n",
      "257668           0                 0           2           1                0   \n",
      "257669           0                 0           3           2                0   \n",
      "257670           0                 0           1           1                1   \n",
      "257671           0                 0           1           1                1   \n",
      "257672           0                 0           1           1                0   \n",
      "\n",
      "        attack_cat  label  \n",
      "0           Normal      0  \n",
      "1           Normal      0  \n",
      "2           Normal      0  \n",
      "3           Normal      0  \n",
      "4           Normal      0  \n",
      "...            ...    ...  \n",
      "257668      Normal      0  \n",
      "257669      Normal      0  \n",
      "257670      Normal      0  \n",
      "257671      Normal      0  \n",
      "257672      Normal      0  \n",
      "\n",
      "[257673 rows x 41 columns]\n"
     ]
    }
   ],
   "source": [
    "print(data)"
   ]
  },
  {
   "cell_type": "markdown",
   "metadata": {},
   "source": [
    "### Scale"
   ]
  },
  {
   "cell_type": "code",
   "execution_count": 145,
   "metadata": {},
   "outputs": [
    {
     "name": "stdout",
     "output_type": "stream",
     "text": [
      "39\n",
      "3\n",
      "Index(['proto', 'service', 'state'], dtype='object')\n",
      "36\n",
      "Index(['id', 'dur', 'spkts', 'dpkts', 'rate', 'sttl', 'dttl', 'sload', 'dload',\n",
      "       'sloss', 'dloss', 'sinpkt', 'dinpkt', 'sjit', 'djit', 'stcpb', 'dtcpb',\n",
      "       'dwin', 'tcprtt', 'synack', 'ackdat', 'smean', 'dmean', 'trans_depth',\n",
      "       'response_body_len', 'ct_srv_src', 'ct_state_ttl', 'ct_dst_ltm',\n",
      "       'ct_src_dport_ltm', 'ct_dst_sport_ltm', 'ct_dst_src_ltm', 'ct_ftp_cmd',\n",
      "       'ct_flw_http_mthd', 'ct_src_ltm', 'ct_srv_dst', 'is_sm_ips_ports'],\n",
      "      dtype='object')\n"
     ]
    }
   ],
   "source": [
    "x_data = data.drop(['label','attack_cat'], axis=1)\n",
    "\n",
    "print(len(x_data.columns))\n",
    "categorical_features = x_data.select_dtypes(exclude=[\"number\"]).columns\n",
    "print(len(categorical_features))\n",
    "print(categorical_features)\n",
    "categorical_features\n",
    "\n",
    "numeric_features = x_data.select_dtypes(exclude=[object]).columns\n",
    "print(len(numeric_features))\n",
    "print(numeric_features)"
   ]
  },
  {
   "cell_type": "code",
   "execution_count": 146,
   "metadata": {},
   "outputs": [
    {
     "name": "stdout",
     "output_type": "stream",
     "text": [
      "Index(['id', 'dur', 'spkts', 'dpkts', 'rate', 'sttl', 'dttl', 'sload', 'dload',\n",
      "       'sloss', 'dloss', 'sinpkt', 'dinpkt', 'sjit', 'djit', 'stcpb', 'dtcpb',\n",
      "       'dwin', 'tcprtt', 'synack', 'ackdat', 'smean', 'dmean', 'trans_depth',\n",
      "       'response_body_len', 'ct_srv_src', 'ct_state_ttl', 'ct_dst_ltm',\n",
      "       'ct_src_dport_ltm', 'ct_dst_sport_ltm', 'ct_dst_src_ltm', 'ct_ftp_cmd',\n",
      "       'ct_flw_http_mthd', 'ct_src_ltm', 'ct_srv_dst', 'is_sm_ips_ports'],\n",
      "      dtype='object')\n"
     ]
    }
   ],
   "source": [
    "y_data = data['attack_cat']\n",
    "numeric_data = x_data.drop(categorical_features, axis=1)\n",
    "print(numeric_data.columns)\n",
    "numeric_data = pd.DataFrame(QuantileTransformer().fit_transform(numeric_data), columns=numeric_features)"
   ]
  },
  {
   "cell_type": "code",
   "execution_count": 147,
   "metadata": {},
   "outputs": [
    {
     "name": "stdout",
     "output_type": "stream",
     "text": [
      "Index(['proto', 'service', 'state'], dtype='object')\n"
     ]
    }
   ],
   "source": [
    "categorical_data = x_data.drop(numeric_features, axis=1)\n",
    "print(categorical_data.columns)\n",
    "no_x_data = pd.concat([numeric_data, categorical_data],axis=1)"
   ]
  },
  {
   "cell_type": "code",
   "execution_count": 148,
   "metadata": {},
   "outputs": [],
   "source": [
    "categorical_data = pd.get_dummies(categorical_data)"
   ]
  },
  {
   "cell_type": "code",
   "execution_count": 149,
   "metadata": {},
   "outputs": [
    {
     "data": {
      "text/plain": [
       "Index(['proto_3pc', 'proto_a/n', 'proto_aes-sp3-d', 'proto_any', 'proto_argus',\n",
       "       'proto_aris', 'proto_arp', 'proto_ax.25', 'proto_bbn-rcc', 'proto_bna',\n",
       "       ...\n",
       "       'state_CLO', 'state_CON', 'state_ECO', 'state_FIN', 'state_INT',\n",
       "       'state_PAR', 'state_REQ', 'state_RST', 'state_URN', 'state_no'],\n",
       "      dtype='object', length=157)"
      ]
     },
     "execution_count": 149,
     "metadata": {},
     "output_type": "execute_result"
    }
   ],
   "source": [
    "categorical_data.columns"
   ]
  },
  {
   "cell_type": "code",
   "execution_count": 150,
   "metadata": {},
   "outputs": [
    {
     "data": {
      "text/plain": [
       "attack_cat\n",
       "6             93000\n",
       "5             58871\n",
       "3             44525\n",
       "4             24246\n",
       "2             16353\n",
       "7             13987\n",
       "0              2677\n",
       "1              2329\n",
       "8              1511\n",
       "9               174\n",
       "dtype: int64"
      ]
     },
     "execution_count": 150,
     "metadata": {},
     "output_type": "execute_result"
    }
   ],
   "source": [
    "le = LabelEncoder()\n",
    "y_data = pd.DataFrame(le.fit_transform(y_data), columns=[\"attack_cat\"])\n",
    "y_data.value_counts()"
   ]
  },
  {
   "cell_type": "code",
   "execution_count": 151,
   "metadata": {},
   "outputs": [
    {
     "data": {
      "text/html": [
       "<div>\n",
       "<style scoped>\n",
       "    .dataframe tbody tr th:only-of-type {\n",
       "        vertical-align: middle;\n",
       "    }\n",
       "\n",
       "    .dataframe tbody tr th {\n",
       "        vertical-align: top;\n",
       "    }\n",
       "\n",
       "    .dataframe thead th {\n",
       "        text-align: right;\n",
       "    }\n",
       "</style>\n",
       "<table border=\"1\" class=\"dataframe\">\n",
       "  <thead>\n",
       "    <tr style=\"text-align: right;\">\n",
       "      <th></th>\n",
       "      <th>attack_cat</th>\n",
       "    </tr>\n",
       "  </thead>\n",
       "  <tbody>\n",
       "    <tr>\n",
       "      <th>0</th>\n",
       "      <td>6</td>\n",
       "    </tr>\n",
       "    <tr>\n",
       "      <th>1</th>\n",
       "      <td>6</td>\n",
       "    </tr>\n",
       "    <tr>\n",
       "      <th>2</th>\n",
       "      <td>6</td>\n",
       "    </tr>\n",
       "    <tr>\n",
       "      <th>3</th>\n",
       "      <td>6</td>\n",
       "    </tr>\n",
       "    <tr>\n",
       "      <th>4</th>\n",
       "      <td>6</td>\n",
       "    </tr>\n",
       "  </tbody>\n",
       "</table>\n",
       "</div>"
      ],
      "text/plain": [
       "   attack_cat\n",
       "0           6\n",
       "1           6\n",
       "2           6\n",
       "3           6\n",
       "4           6"
      ]
     },
     "execution_count": 151,
     "metadata": {},
     "output_type": "execute_result"
    }
   ],
   "source": [
    "y_data.head()"
   ]
  },
  {
   "cell_type": "code",
   "execution_count": 152,
   "metadata": {},
   "outputs": [
    {
     "name": "stdout",
     "output_type": "stream",
     "text": [
      "Index(['id', 'dur', 'spkts', 'dpkts', 'rate', 'sttl', 'dttl', 'sload', 'dload',\n",
      "       'sloss',\n",
      "       ...\n",
      "       'state_CLO', 'state_CON', 'state_ECO', 'state_FIN', 'state_INT',\n",
      "       'state_PAR', 'state_REQ', 'state_RST', 'state_URN', 'state_no'],\n",
      "      dtype='object', length=193)\n"
     ]
    }
   ],
   "source": [
    "x_data = pd.concat([numeric_data, categorical_data],axis=1)\n",
    "print(x_data.columns)"
   ]
  },
  {
   "cell_type": "code",
   "execution_count": 153,
   "metadata": {},
   "outputs": [
    {
     "name": "stdout",
     "output_type": "stream",
     "text": [
      "36\n",
      "157\n"
     ]
    }
   ],
   "source": [
    "print(len(numeric_data.columns))\n",
    "print(len(categorical_data.columns))"
   ]
  },
  {
   "cell_type": "code",
   "execution_count": 154,
   "metadata": {},
   "outputs": [],
   "source": [
    "x_data.to_csv('/home/wendyunji/MLAC/data/unsw-data/new/unsw_xdata.csv', index=False)\n",
    "no_x_data.to_csv('/home/wendyunji/MLAC/data/unsw-data/new/unsw_noxdata.csv', index=False)\n",
    "y_data.to_csv('/home/wendyunji/MLAC/data/unsw-data/new/unsw_ydata.csv', index=False)"
   ]
  }
 ],
 "metadata": {
  "kernelspec": {
   "display_name": "Python 3.8.13 ('MLAC')",
   "language": "python",
   "name": "python3"
  },
  "language_info": {
   "codemirror_mode": {
    "name": "ipython",
    "version": 3
   },
   "file_extension": ".py",
   "mimetype": "text/x-python",
   "name": "python",
   "nbconvert_exporter": "python",
   "pygments_lexer": "ipython3",
   "version": "3.8.13"
  },
  "orig_nbformat": 4,
  "vscode": {
   "interpreter": {
    "hash": "655fe69128f33ec7b9cdb5607c5affb61ecf7a01288ac599a7040d39bc4c0ccc"
   }
  }
 },
 "nbformat": 4,
 "nbformat_minor": 2
}
